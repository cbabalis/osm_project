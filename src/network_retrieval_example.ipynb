{
 "cells": [
  {
   "cell_type": "code",
   "execution_count": 1,
   "metadata": {},
   "outputs": [
    {
     "name": "stderr",
     "output_type": "stream",
     "text": [
      "/home/blaxeep/.local/lib/python3.8/site-packages/geopandas/_compat.py:84: UserWarning: The Shapely GEOS version (3.8.0-CAPI-1.13.1 ) is incompatible with the GEOS version PyGEOS was compiled with (3.8.1-CAPI-1.13.3). Conversions between both will be slow.\n",
      "  warnings.warn(\n"
     ]
    }
   ],
   "source": [
    "# https://github.com/tallesfelix/directions-with-osm-networkx/blob/master/Creating%20routes%20with%20networkx%20and%20ipyleaflet.ipynb\n",
    "import networkx as nx\n",
    "import osmnx as ox\n",
    "from shapely.geometry import LineString, mapping\n",
    "import geopandas as gpd\n",
    "from ipyleaflet import *"
   ]
  },
  {
   "cell_type": "code",
   "execution_count": null,
   "metadata": {},
   "outputs": [],
   "source": [
    "place_name = \"Greece\"\n",
    "ox.config(use_cache=True, log_console=True)\n",
    "#cf = '[\"highway\"~\"motorway|motorway_link|trunk|secondary|primary\"]'\n",
    "cf = '[\"highway\"~\"motorway|motorway_link|trunk|trunk_link|primary|primary_link\"]'\n",
    "#cf = '[\"highway\"~\"motorway|motorway_link\"]'\n",
    "greece_graph = ox.graph_from_place(place_name, network_type='drive', custom_filter=cf)\n",
    "#fig, ax = ox.plot_graph(graph)\n",
    "greece_nodes, greece_edges = ox.graph_to_gdfs(greece_graph)\n",
    "fig, ax = ox.plot_graph(greece_graph)"
   ]
  },
  {
   "cell_type": "code",
   "execution_count": null,
   "metadata": {},
   "outputs": [],
   "source": [
    "dest_graph_fpath = '/home/workspace/osm_project/results/graphs/'\n",
    "cities = ['Regional Unit of North Athens','Regional Unit of West Athens','Regional Unit of Central Athens','Regional Unit of South Athens','Regional Unit of East Attica','Municipality of Piraeus','Lesbos Regional Unit','Ikaria Regional Unit','Chios Regional Unit','Rhodes Regional Unit','Tinos Regional Unit','Heraklion Regional Unit','Lasithi Regional Unit','Rethymno Regional Unit','Chania Regional Unit','Evros Regional Unit','Xanthi Regional Unit','Rodopi Regional Unit','Drama Regional Unit','Kavala Regional Unit','Imathia Regional Unit','Thessaloniki Regional Unit','Kilkis Regional Unit','Pella Regional Unit','Pieria Regional Unit','Serres Regional Unit','Chalkidiki Regional Unit','Kozani Regional Unit','Kastoria Regional Unit','Florina Regional Unit','Arta Regional Unit','Thesprotia Regional Unit','Ioannina Regional Unit','Karditsa Regional Unit','Larisa Regional Unit','Regional Unit of Magnesia','Zakynthos Regional Unit','Corfu Regional Unit','Kefallonia Regional Unit','Lefkada Regional Unit','Aetolia-Acarnania Regional Unit','Achaea Regional Unit','Elis Regional Unit','Regional Unit of Boeotia','Euboea Regional Unit','Regional Unit of Evrytania','Phthiotis Regional Unit','Regional Unit of Phocis','Argos Regional Unit','Corinthia Regional Unit','Laconia Regional Unit']\n",
    "cf = '[\"highway\"~\"motorway|motorway_link|trunk|trunk_link|primary|primary_link|secondary|secondary_link\"]'\n",
    "for city in cities:\n",
    "    print(\"now city is \", city)\n",
    "    try:\n",
    "        zogr_graph = ox.graph_from_place(str(city), network_type='drive', custom_filter=cf)\n",
    "        zogr_nodes, zogr_edges = ox.graph_to_gdfs(zogr_graph)\n",
    "        destination = dest_graph_fpath + str(city) +str('-secondary.graphml')\n",
    "        ox.save_graphml(zogr_graph, destination)\n",
    "    except ValueError:\n",
    "        print(\"failure!\")"
   ]
  },
  {
   "cell_type": "code",
   "execution_count": null,
   "metadata": {},
   "outputs": [],
   "source": [
    "dest_graph_fpath = '/home/workspace/osm_project/results/graphs/'\n",
    "G_all = greece_graph\n",
    "cities = ['Regional Unit of North Athens','Regional Unit of West Athens','Regional Unit of Central Athens','Regional Unit of South Athens','Regional Unit of East Attica','Municipality of Piraeus','Lesbos Regional Unit','Ikaria Regional Unit','Chios Regional Unit','Rhodes Regional Unit','Tinos Regional Unit','Heraklion Regional Unit','Lasithi Regional Unit','Rethymno Regional Unit','Chania Regional Unit','Evros Regional Unit','Xanthi Regional Unit','Rodopi Regional Unit','Drama Regional Unit','Kavala Regional Unit','Imathia Regional Unit','Thessaloniki Regional Unit','Kilkis Regional Unit','Pella Regional Unit','Pieria Regional Unit','Serres Regional Unit','Chalkidiki Regional Unit','Kozani Regional Unit','Kastoria Regional Unit','Florina Regional Unit','Arta Regional Unit','Thesprotia Regional Unit','Ioannina Regional Unit','Karditsa Regional Unit','Larisa Regional Unit','Regional Unit of Magnesia','Zakynthos Regional Unit','Corfu Regional Unit','Kefallonia Regional Unit','Lefkada Regional Unit','Aetolia-Acarnania Regional Unit','Achaea Regional Unit','Elis Regional Unit','Regional Unit of Boeotia','Euboea Regional Unit','Regional Unit of Evrytania','Phthiotis Regional Unit','Regional Unit of Phocis','Argos Regional Unit','Corinthia Regional Unit','Laconia Regional Unit']\n",
    "for city in cities:\n",
    "    local_path = dest_graph_fpath + str(city) +str('.graphml')\n",
    "    local_graph = ox.load_graphml(local_path)\n",
    "    G_all = nx.compose(G_all, local_graph)\n",
    "supergraph_dest = '../results/result_graph.graphml'\n",
    "ox.save_graphml(G_all, supergraph_dest)\n",
    "all_nodes, all_edges = ox.graph_to_gdfs(G_all)\n",
    "print(len(all_nodes), len(all_edges))"
   ]
  },
  {
   "cell_type": "code",
   "execution_count": null,
   "metadata": {},
   "outputs": [],
   "source": [
    "nodes, edges = ox.graph_to_gdfs(G_all)\n",
    "center = (37.714155,24.056792)\n",
    "m = Map(center=center, basemap=basemaps.CartoDB.Positron, zoom=8)\n",
    "\n",
    "to_marker_style = AwesomeIcon(\n",
    "    name='circle',\n",
    "    icon_color='white',\n",
    "    marker_color='red',\n",
    "    spin=False\n",
    ")\n",
    "from_marker = Marker(location=center)\n",
    "print(from_marker)\n",
    "to_marker = Marker(location=center, icon=to_marker_style)\n",
    "\n",
    "def set_nearest_node(marker):\n",
    "    marker.nearest_node = ox.get_nearest_node(G3, marker.location)\n",
    "    return\n",
    "\n",
    "path_layer_list = []\n",
    "\n",
    "def handle_change_location(event, marker):\n",
    "    event_owner = event['owner']\n",
    "    event_owner.nearest_node = ox.get_nearest_node(G3, event_owner.location)\n",
    "    marker.neares_node = ox.get_nearest_node(G3, marker.location)\n",
    "    \n",
    "    shortest_path = nx.dijkstra_path(G3, event_owner.nearest_node, marker.neares_node, \n",
    "                                     weight='length')\n",
    "    \n",
    "    if len(path_layer_list) == 1:\n",
    "        m.remove_layer(path_layer_list[0])\n",
    "        path_layer_list.pop()\n",
    "    \n",
    "    shortest_path_points = nodes.loc[shortest_path]\n",
    "    path = gpd.GeoDataFrame([LineString(shortest_path_points.geometry.values)], columns=['geometry'])\n",
    "    path_layer = GeoData(geo_dataframe=path, style={'color':'black', 'weight':2})\n",
    "    m.add_layer(path_layer)\n",
    "    path_layer_list.append(path_layer)\n",
    "    \n",
    "    \n",
    "    \n",
    "from_marker.observe(lambda event: handle_change_location(event, to_marker), 'location')\n",
    "to_marker.observe(lambda event: handle_change_location(event, from_marker), 'location')\n",
    "\n",
    "m.add_layer(from_marker)\n",
    "m.add_layer(to_marker)\n",
    "set_nearest_node(from_marker)\n",
    "set_nearest_node(to_marker)\n",
    "m"
   ]
  },
  {
   "cell_type": "code",
   "execution_count": null,
   "metadata": {},
   "outputs": [],
   "source": [
    "print(\"Κοντινότερος κόμβος: \", to_marker.nearest_node)\n",
    "print(\"Αριθμός κόμβων και συνδέσμων του δικτύου αντίστοιχα\", len(nodes), len(edges))"
   ]
  },
  {
   "cell_type": "code",
   "execution_count": null,
   "metadata": {},
   "outputs": [],
   "source": [
    "num = nx.strongly_connected_components(G_all)\n",
    "connected_components = sum(1 for x in num)\n",
    "print(connected_components)\n",
    "z = ox.utils_graph.remove_isolated_nodes(G_all)\n",
    "\n",
    "num = nx.strongly_connected_components(z)\n",
    "connected_components = sum(1 for x in num)\n",
    "print(connected_components)"
   ]
  }
 ],
 "metadata": {
  "kernelspec": {
   "display_name": "Python 3",
   "language": "python",
   "name": "python3"
  },
  "language_info": {
   "codemirror_mode": {
    "name": "ipython",
    "version": 3
   },
   "file_extension": ".py",
   "mimetype": "text/x-python",
   "name": "python",
   "nbconvert_exporter": "python",
   "pygments_lexer": "ipython3",
   "version": "3.8.5"
  }
 },
 "nbformat": 4,
 "nbformat_minor": 4
}
